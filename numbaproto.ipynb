{
 "cells": [
  {
   "cell_type": "code",
   "execution_count": 147,
   "metadata": {},
   "outputs": [],
   "source": [
    "from numba import cuda,jit\n",
    "import numpy as np\n",
    "import cv2\n",
    "import math\n",
    "from copy import copy"
   ]
  },
  {
   "cell_type": "code",
   "execution_count": 124,
   "metadata": {},
   "outputs": [],
   "source": [
    "@cuda.jit(device=True)\n",
    "def compare_pixel(pixela, pixelb):\n",
    "    c=0\n",
    "    for i in range(3):\n",
    "        c+=(pixela[i]-pixelb[i])**2\n",
    "    return c**0.5"
   ]
  },
  {
   "cell_type": "code",
   "execution_count": 125,
   "metadata": {},
   "outputs": [],
   "source": [
    "@cuda.jit\n",
    "def gcompare(imga, imgb, C):\n",
    "    y, x = cuda.grid(2)\n",
    "    if y>=imga.shape[0] or x>=imga.shape[1]:\n",
    "        return\n",
    "    \n",
    "    C[y,x]=compare_pixel(imga[y,x], imgb[y,x])"
   ]
  },
  {
   "cell_type": "code",
   "execution_count": 143,
   "metadata": {},
   "outputs": [],
   "source": [
    "def compare(imga, imgb):\n",
    "    assert imga.shape==imgb.shape\n",
    "    \n",
    "    tpb = 16\n",
    "    bpgy = (imga.shape[0]-1)//tpb+1\n",
    "    bpgx = (imga.shape[1]-1)//tpb+1\n",
    "    \n",
    "    C=np.array(np.zeros(imga.shape[0:2]), dtype=np.float32)\n",
    "\n",
    "    gcompare[(bpgy, bpgx), (tpb, tpb)](dimga, dimgb, dC)\n",
    "    dC.copy_to_host()\n",
    "    return np.sum(C)\n"
   ]
  },
  {
   "cell_type": "code",
   "execution_count": 144,
   "metadata": {},
   "outputs": [],
   "source": [
    "img=cv2.imread(\"puzzle.jpg\", 1)\n",
    "imga=img[0:300,0:300]\n",
    "imgb=img[100:400,100:400]\n",
    "imgb+=1\n",
    "array=np.ones((16))"
   ]
  },
  {
   "cell_type": "code",
   "execution_count": 145,
   "metadata": {
    "scrolled": true
   },
   "outputs": [
    {
     "name": "stdout",
     "output_type": "stream",
     "text": [
      "2.11 ms ± 99 µs per loop (mean ± std. dev. of 7 runs, 1000 loops each)\n"
     ]
    }
   ],
   "source": [
    "%timeit compare(imga, imgb)"
   ]
  },
  {
   "cell_type": "code",
   "execution_count": 146,
   "metadata": {},
   "outputs": [],
   "source": [
    "def locate_one_piece(pieces, solution_pieces):\n",
    "    pieces, solution_pieces = preprocess_pieces(pieces, solution_pieces)\n",
    "    resemblance_array=np.empty((pieces.shape[0]))\n",
    "    max=(0, (None, None))\n",
    "    for i in range(pieces.shape[0]):\n",
    "        match_size(pieces[i])\n",
    "        max=resemblance_array[0]\n",
    "        resemblance_array[i]=compare(pieces[i], solution_pieces[0][i])\n",
    "    "
   ]
  },
  {
   "cell_type": "code",
   "execution_count": 88,
   "metadata": {},
   "outputs": [],
   "source": [
    "def preprocess_pieces(pieces, solution_pieces)\n",
    "    if not(isinstance(pieces, np.ndarray) and isinstance(solution_pieces[0], np.ndarray) and isinstance(solution_pieces[1], np.ndarray)) raise TypeError(\"Wrong object type.\")\n",
    "    if not(len(pieces.shape)==4 and len(solution_pieces[0].shape)==4): raise Exception(\"Incorrect array shape.\")\n",
    "    if pieces.shape[0] != solution_pieces[0].shape[0]: raise Exception(\"Number of pieces don't match!\")\n",
    "    \n",
    "    if pieces.shape != solution_pieces[0].shape\n",
    "        for i in range(pieces.shape[0])"
   ]
  },
  {
   "cell_type": "code",
   "execution_count": null,
   "metadata": {},
   "outputs": [],
   "source": []
  },
  {
   "cell_type": "code",
   "execution_count": null,
   "metadata": {},
   "outputs": [],
   "source": []
  }
 ],
 "metadata": {
  "kernelspec": {
   "display_name": "Python 3",
   "language": "python",
   "name": "python3"
  },
  "language_info": {
   "codemirror_mode": {
    "name": "ipython",
    "version": 3
   },
   "file_extension": ".py",
   "mimetype": "text/x-python",
   "name": "python",
   "nbconvert_exporter": "python",
   "pygments_lexer": "ipython3",
   "version": "3.6.5"
  }
 },
 "nbformat": 4,
 "nbformat_minor": 2
}
