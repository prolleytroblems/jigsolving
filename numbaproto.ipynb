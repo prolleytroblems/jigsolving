{
 "cells": [
  {
   "cell_type": "code",
   "execution_count": 1,
   "metadata": {},
   "outputs": [],
   "source": [
    "from numba import cuda,jit\n",
    "import numpy as np\n",
    "import cv2\n",
    "import math\n",
    "from copy import copy\n",
    "import random\n",
    "from datetime import datetime"
   ]
  },
  {
   "cell_type": "code",
   "execution_count": 2,
   "metadata": {},
   "outputs": [],
   "source": [
    "@cuda.jit(device=True)\n",
    "def compare_pixel(pixela, pixelb):\n",
    "    c=0\n",
    "    for i in range(3):\n",
    "        c+=(pixela[i]-pixelb[i])**2\n",
    "    return c**0.5"
   ]
  },
  {
   "cell_type": "code",
   "execution_count": 3,
   "metadata": {},
   "outputs": [],
   "source": [
    "@cuda.jit\n",
    "def gcompare(imga, imgb, C):\n",
    "    y, x = cuda.grid(2)\n",
    "    if y>=imga.shape[0] or x>=imga.shape[1]:\n",
    "        return\n",
    "    \n",
    "    C[y,x]=compare_pixel(imga[y,x], imgb[y,x])"
   ]
  },
  {
   "cell_type": "code",
   "execution_count": 4,
   "metadata": {},
   "outputs": [],
   "source": [
    "def compare(dimga, dimgb, **params):\n",
    "\n",
    "    tpb = 16\n",
    "    bpgy = (dimga.shape[0]-1)//tpb+1\n",
    "    bpgx = (dimga.shape[1]-1)//tpb+1\n",
    "    \n",
    "    C=np.array(np.zeros(imga.shape[0:2]), dtype=np.float32)\n",
    "\n",
    "    gcompare[(bpgy, bpgx), (tpb, tpb)](np.ascontiguousarray(dimga), np.ascontiguousarray(dimgb), C)\n",
    "\n",
    "    return 1-np.sum(C)/(dimga.shape[0]*dimga.shape[1]*442)\n"
   ]
  },
  {
   "cell_type": "code",
   "execution_count": 5,
   "metadata": {},
   "outputs": [],
   "source": [
    "img=cv2.imread(\"puzzle.jpg\", 1)\n",
    "imga=img[0:100,0:100]\n",
    "imgb=img[100:200,100:200]\n",
    "imgc=imgb+1\n",
    "imgd=imgb+5\n",
    "imge=imgb+10\n",
    "imgf=imgb-1\n",
    "imgg=imgb-5\n",
    "imgh=imgb-10\n"
   ]
  },
  {
   "cell_type": "code",
   "execution_count": 6,
   "metadata": {},
   "outputs": [],
   "source": [
    "def locate_one_piece(dpiece, solution, **params):\n",
    "    \"\"\"Will only receive preprocessed pieces!\"\"\"\n",
    "    max_resemblance=(0, None)\n",
    "    \n",
    "    for i in range(solution.dpieces.shape[0]):\n",
    "        if solution.availability[i]==True:\n",
    "            resemblance=compare(dpiece, solution.dpieces[i], **params)\n",
    "            if \"debug_mode\" in params:\n",
    "                if params[\"debug_mode\"]==True: print(resemblance)\n",
    "            if resemblance>max_resemblance[0]:\n",
    "                max_resemblance=(resemblance, i)\n",
    "    solution.availability[max_resemblance[1]]=False\n",
    "    return solution.locations[max_resemblance[1]]\n"
   ]
  },
  {
   "cell_type": "code",
   "execution_count": 7,
   "metadata": {},
   "outputs": [],
   "source": [
    "def preprocess_pieces(pieces, solution_pieces, **params):\n",
    "    if not(isinstance(pieces, np.ndarray) and isinstance(solution_pieces, np.ndarray)):raise TypeError(\"Wrong object type!\")\n",
    "    if not(len(pieces.shape)==4 and len(solution_pieces.shape)==4): raise Exception(\"Incorrect array shape!\")\n",
    "    if pieces.shape[0] != solution_pieces.shape[0]: raise Exception(\"Number of pieces don't match!\")\n",
    "    \n",
    "    if pieces.shape != solution_pieces.shape:\n",
    "        print(\"Piece shape mismatch!\")\n",
    "        pieces=resize(pieces, solution_pieces[0].shape[1:])\n",
    "    \n",
    "    return pieces"
   ]
  },
  {
   "cell_type": "code",
   "execution_count": 8,
   "metadata": {},
   "outputs": [],
   "source": [
    "def resize(pieces, size):\n",
    "    raise Exception(\"WRONG SIZE\")"
   ]
  },
  {
   "cell_type": "code",
   "execution_count": 9,
   "metadata": {},
   "outputs": [],
   "source": [
    "def locate_pieces(pieces, solution, **params):\n",
    "    pieces = preprocess_pieces(pieces, solution.pieces, **params)\n",
    "    dpieces=cuda.to_device(np.ascontiguousarray(pieces))\n",
    "    solved_locations=[]\n",
    "    for i in range(len(solution.locations)):\n",
    "        location=locate_one_piece(dpieces[i], solution, **params)\n",
    "        solved_locations.append(location)\n",
    "    return (pieces, np.array(solved_locations))\n",
    "        "
   ]
  },
  {
   "cell_type": "code",
   "execution_count": 10,
   "metadata": {},
   "outputs": [],
   "source": [
    "pieces=[imgb+i for i in range(0,100,5)]\n",
    "pieces=[imga,imgb]\n",
    "solutions=(np.stack(pieces), np.arange(20))"
   ]
  },
  {
   "cell_type": "code",
   "execution_count": null,
   "metadata": {},
   "outputs": [],
   "source": []
  },
  {
   "cell_type": "code",
   "execution_count": 11,
   "metadata": {},
   "outputs": [],
   "source": [
    "class Solution(object):\n",
    "    def __init__(self, path, dims):\n",
    "        self.pieces=img_split(path, dims)  \n",
    "        self.dpieces=cuda.to_device(np.ascontiguousarray(self.pieces))\n",
    "        self.locations=np.array([(i,j) for i in range(dims[1]) for j in range(dims[0])])\n",
    "        self.availability=[True]*dims[0]*dims[1]"
   ]
  },
  {
   "cell_type": "code",
   "execution_count": 12,
   "metadata": {},
   "outputs": [],
   "source": [
    "def brg_to_rgb(image):\n",
    "    b,g,r=np.split(image, 3, axis=2)\n",
    "    return np.concatenate((r,g,b), axis=2)\n",
    "\n",
    "def img_split(image_path, dims, **params):\n",
    "    assert type(dims)==tuple\n",
    "    image=brg_to_rgb(cv2.imread(image_path, 1))\n",
    "\n",
    "    pieces=[]\n",
    "    height=image.shape[0]/dims[0]\n",
    "    width=image.shape[1]/dims[1]\n",
    "    for y_split in range(dims[0]):\n",
    "        for x_split in range(dims[1]):\n",
    "            x_start=int(x_split*width)\n",
    "            x_end=x_start+int(width)\n",
    "            y_start=int(y_split*height)\n",
    "            y_end=y_start+int(height)\n",
    "\n",
    "            pieces.append(np.array(image[y_start: y_end, x_start: x_end]))\n",
    "    return np.array(pieces)"
   ]
  },
  {
   "cell_type": "code",
   "execution_count": 13,
   "metadata": {},
   "outputs": [
    {
     "name": "stdout",
     "output_type": "stream",
     "text": [
      "872 ms ± 13.4 ms per loop (mean ± std. dev. of 7 runs, 1 loop each)\n"
     ]
    }
   ],
   "source": [
    "%timeit sol=Solution(\"puzzle.jpg\", (5,5)); locate_pieces(img_split(\"puzzle.jpg\", (5,5)), sol)[1]"
   ]
  },
  {
   "cell_type": "code",
   "execution_count": 14,
   "metadata": {},
   "outputs": [],
   "source": [
    "def pool(image, pooling):\n",
    "    pass"
   ]
  },
  {
   "cell_type": "code",
   "execution_count": 15,
   "metadata": {},
   "outputs": [],
   "source": [
    "from img_recog_proto import openimg, writeimg"
   ]
  },
  {
   "cell_type": "code",
   "execution_count": null,
   "metadata": {},
   "outputs": [],
   "source": []
  },
  {
   "cell_type": "code",
   "execution_count": null,
   "metadata": {},
   "outputs": [],
   "source": []
  }
 ],
 "metadata": {
  "kernelspec": {
   "display_name": "Python 3",
   "language": "python",
   "name": "python3"
  },
  "language_info": {
   "codemirror_mode": {
    "name": "ipython",
    "version": 3
   },
   "file_extension": ".py",
   "mimetype": "text/x-python",
   "name": "python",
   "nbconvert_exporter": "python",
   "pygments_lexer": "ipython3",
   "version": "3.6.5"
  }
 },
 "nbformat": 4,
 "nbformat_minor": 2
}
